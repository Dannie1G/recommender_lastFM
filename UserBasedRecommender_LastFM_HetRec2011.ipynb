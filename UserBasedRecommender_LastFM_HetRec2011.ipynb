{
 "cells": [
  {
   "cell_type": "markdown",
   "metadata": {},
   "source": [
    "# Recommender System: Last.FM Dataset\n",
    "## Recommender based on user activity\n",
    "\n",
    "Reference: 2nd Workshop on Information Heterogeneity and Fusion in Recommender Systems (HetRec 2011). I. Cantod, P Brusilovsky, T. Kuflik. Proceedings of the 5th ACM conference on Recommender systems.<br>\n",
    "https://grouplens.org/datasets/hetrec-2011/<br>"
   ]
  },
  {
   "cell_type": "code",
   "execution_count": 93,
   "metadata": {
    "collapsed": true
   },
   "outputs": [],
   "source": [
    "import numpy as np\n",
    "import pandas as pd\n",
    "\n",
    "from sklearn import preprocessing\n",
    "from sklearn.model_selection import train_test_split\n",
    "from sklearn.metrics.pairwise import cosine_similarity\n",
    "from sklearn.metrics.pairwise import pairwise_distances\n",
    "from sklearn.metrics import mean_squared_error\n",
    "from math import sqrt\n",
    "\n",
    "import matrix_factorization_utilities"
   ]
  },
  {
   "cell_type": "code",
   "execution_count": 2,
   "metadata": {
    "collapsed": true
   },
   "outputs": [],
   "source": [
    "# opening artist data as pandas dataframe\n",
    "artists = pd.read_csv('artists.dat',\n",
    "                      delimiter='\\t', low_memory=False)"
   ]
  },
  {
   "cell_type": "code",
   "execution_count": 3,
   "metadata": {
    "scrolled": true
   },
   "outputs": [
    {
     "data": {
      "text/html": [
       "<div>\n",
       "<style>\n",
       "    .dataframe thead tr:only-child th {\n",
       "        text-align: right;\n",
       "    }\n",
       "\n",
       "    .dataframe thead th {\n",
       "        text-align: left;\n",
       "    }\n",
       "\n",
       "    .dataframe tbody tr th {\n",
       "        vertical-align: top;\n",
       "    }\n",
       "</style>\n",
       "<table border=\"1\" class=\"dataframe\">\n",
       "  <thead>\n",
       "    <tr style=\"text-align: right;\">\n",
       "      <th></th>\n",
       "      <th>id</th>\n",
       "      <th>name</th>\n",
       "      <th>url</th>\n",
       "      <th>pictureURL</th>\n",
       "    </tr>\n",
       "  </thead>\n",
       "  <tbody>\n",
       "    <tr>\n",
       "      <th>0</th>\n",
       "      <td>1</td>\n",
       "      <td>MALICE MIZER</td>\n",
       "      <td>http://www.last.fm/music/MALICE+MIZER</td>\n",
       "      <td>http://userserve-ak.last.fm/serve/252/10808.jpg</td>\n",
       "    </tr>\n",
       "    <tr>\n",
       "      <th>1</th>\n",
       "      <td>2</td>\n",
       "      <td>Diary of Dreams</td>\n",
       "      <td>http://www.last.fm/music/Diary+of+Dreams</td>\n",
       "      <td>http://userserve-ak.last.fm/serve/252/3052066.jpg</td>\n",
       "    </tr>\n",
       "    <tr>\n",
       "      <th>2</th>\n",
       "      <td>3</td>\n",
       "      <td>Carpathian Forest</td>\n",
       "      <td>http://www.last.fm/music/Carpathian+Forest</td>\n",
       "      <td>http://userserve-ak.last.fm/serve/252/40222717...</td>\n",
       "    </tr>\n",
       "  </tbody>\n",
       "</table>\n",
       "</div>"
      ],
      "text/plain": [
       "   id               name                                         url  \\\n",
       "0   1       MALICE MIZER       http://www.last.fm/music/MALICE+MIZER   \n",
       "1   2    Diary of Dreams    http://www.last.fm/music/Diary+of+Dreams   \n",
       "2   3  Carpathian Forest  http://www.last.fm/music/Carpathian+Forest   \n",
       "\n",
       "                                          pictureURL  \n",
       "0    http://userserve-ak.last.fm/serve/252/10808.jpg  \n",
       "1  http://userserve-ak.last.fm/serve/252/3052066.jpg  \n",
       "2  http://userserve-ak.last.fm/serve/252/40222717...  "
      ]
     },
     "execution_count": 3,
     "metadata": {},
     "output_type": "execute_result"
    }
   ],
   "source": [
    "artists.head(3)"
   ]
  },
  {
   "cell_type": "code",
   "execution_count": 53,
   "metadata": {
    "scrolled": true
   },
   "outputs": [
    {
     "data": {
      "text/html": [
       "<div>\n",
       "<style>\n",
       "    .dataframe thead tr:only-child th {\n",
       "        text-align: right;\n",
       "    }\n",
       "\n",
       "    .dataframe thead th {\n",
       "        text-align: left;\n",
       "    }\n",
       "\n",
       "    .dataframe tbody tr th {\n",
       "        vertical-align: top;\n",
       "    }\n",
       "</style>\n",
       "<table border=\"1\" class=\"dataframe\">\n",
       "  <thead>\n",
       "    <tr style=\"text-align: right;\">\n",
       "      <th></th>\n",
       "      <th>name</th>\n",
       "      <th>url</th>\n",
       "      <th>pictureURL</th>\n",
       "    </tr>\n",
       "    <tr>\n",
       "      <th>artistID</th>\n",
       "      <th></th>\n",
       "      <th></th>\n",
       "      <th></th>\n",
       "    </tr>\n",
       "  </thead>\n",
       "  <tbody>\n",
       "    <tr>\n",
       "      <th>1</th>\n",
       "      <td>MALICE MIZER</td>\n",
       "      <td>http://www.last.fm/music/MALICE+MIZER</td>\n",
       "      <td>http://userserve-ak.last.fm/serve/252/10808.jpg</td>\n",
       "    </tr>\n",
       "    <tr>\n",
       "      <th>2</th>\n",
       "      <td>Diary of Dreams</td>\n",
       "      <td>http://www.last.fm/music/Diary+of+Dreams</td>\n",
       "      <td>http://userserve-ak.last.fm/serve/252/3052066.jpg</td>\n",
       "    </tr>\n",
       "    <tr>\n",
       "      <th>3</th>\n",
       "      <td>Carpathian Forest</td>\n",
       "      <td>http://www.last.fm/music/Carpathian+Forest</td>\n",
       "      <td>http://userserve-ak.last.fm/serve/252/40222717...</td>\n",
       "    </tr>\n",
       "  </tbody>\n",
       "</table>\n",
       "</div>"
      ],
      "text/plain": [
       "                       name                                         url  \\\n",
       "artistID                                                                  \n",
       "1              MALICE MIZER       http://www.last.fm/music/MALICE+MIZER   \n",
       "2           Diary of Dreams    http://www.last.fm/music/Diary+of+Dreams   \n",
       "3         Carpathian Forest  http://www.last.fm/music/Carpathian+Forest   \n",
       "\n",
       "                                                 pictureURL  \n",
       "artistID                                                     \n",
       "1           http://userserve-ak.last.fm/serve/252/10808.jpg  \n",
       "2         http://userserve-ak.last.fm/serve/252/3052066.jpg  \n",
       "3         http://userserve-ak.last.fm/serve/252/40222717...  "
      ]
     },
     "execution_count": 53,
     "metadata": {},
     "output_type": "execute_result"
    }
   ],
   "source": [
    "# changing column title from id to artistID to match user_artists dataframe\n",
    "artists = artists.rename(columns = {'id':'artistID'})\n",
    "# setting artistID as index \n",
    "artists = artists.set_index('artistID')\n",
    "artists.head(3)"
   ]
  },
  {
   "cell_type": "code",
   "execution_count": 5,
   "metadata": {},
   "outputs": [
    {
     "name": "stdout",
     "output_type": "stream",
     "text": [
      "Total number of artistID = 17632\n"
     ]
    }
   ],
   "source": [
    "print('Total number of artistID = {}'.format(len(artists)))"
   ]
  },
  {
   "cell_type": "code",
   "execution_count": 6,
   "metadata": {
    "collapsed": true
   },
   "outputs": [],
   "source": [
    "# opening user_artist data as pandas dataframe\n",
    "user_artists = pd.read_csv('user_artists.dat',\n",
    "                      delimiter='\\t', low_memory=False)"
   ]
  },
  {
   "cell_type": "code",
   "execution_count": 7,
   "metadata": {
    "scrolled": false
   },
   "outputs": [
    {
     "data": {
      "text/html": [
       "<div>\n",
       "<style>\n",
       "    .dataframe thead tr:only-child th {\n",
       "        text-align: right;\n",
       "    }\n",
       "\n",
       "    .dataframe thead th {\n",
       "        text-align: left;\n",
       "    }\n",
       "\n",
       "    .dataframe tbody tr th {\n",
       "        vertical-align: top;\n",
       "    }\n",
       "</style>\n",
       "<table border=\"1\" class=\"dataframe\">\n",
       "  <thead>\n",
       "    <tr style=\"text-align: right;\">\n",
       "      <th></th>\n",
       "      <th>userID</th>\n",
       "      <th>artistID</th>\n",
       "      <th>weight</th>\n",
       "    </tr>\n",
       "  </thead>\n",
       "  <tbody>\n",
       "    <tr>\n",
       "      <th>0</th>\n",
       "      <td>2</td>\n",
       "      <td>51</td>\n",
       "      <td>13883</td>\n",
       "    </tr>\n",
       "    <tr>\n",
       "      <th>1</th>\n",
       "      <td>2</td>\n",
       "      <td>52</td>\n",
       "      <td>11690</td>\n",
       "    </tr>\n",
       "    <tr>\n",
       "      <th>2</th>\n",
       "      <td>2</td>\n",
       "      <td>53</td>\n",
       "      <td>11351</td>\n",
       "    </tr>\n",
       "    <tr>\n",
       "      <th>3</th>\n",
       "      <td>2</td>\n",
       "      <td>54</td>\n",
       "      <td>10300</td>\n",
       "    </tr>\n",
       "    <tr>\n",
       "      <th>4</th>\n",
       "      <td>2</td>\n",
       "      <td>55</td>\n",
       "      <td>8983</td>\n",
       "    </tr>\n",
       "  </tbody>\n",
       "</table>\n",
       "</div>"
      ],
      "text/plain": [
       "   userID  artistID  weight\n",
       "0       2        51   13883\n",
       "1       2        52   11690\n",
       "2       2        53   11351\n",
       "3       2        54   10300\n",
       "4       2        55    8983"
      ]
     },
     "execution_count": 7,
     "metadata": {},
     "output_type": "execute_result"
    }
   ],
   "source": [
    "# weight column corresponds to listening count\n",
    "user_artists.head(5)"
   ]
  },
  {
   "cell_type": "code",
   "execution_count": 8,
   "metadata": {},
   "outputs": [
    {
     "name": "stdout",
     "output_type": "stream",
     "text": [
      "Total number of userID = 1892\n"
     ]
    }
   ],
   "source": [
    "# number of artists per user\n",
    "artperuser = user_artists.groupby(['userID', 'artistID']).size().groupby(['userID']).size()\n",
    "print('Total number of userID = {}'.format(len(artperuser)))"
   ]
  },
  {
   "cell_type": "code",
   "execution_count": 9,
   "metadata": {},
   "outputs": [
    {
     "name": "stdout",
     "output_type": "stream",
     "text": [
      "Total number of userID listening to at least 5 artists = 1877\n"
     ]
    }
   ],
   "source": [
    "# filtering users listening to more than 5 artists\n",
    "users_withenough_artists = artperuser[artperuser >= 5].reset_index()[['userID']]\n",
    "print('Total number of userID listening to at least 5 artists = {}'.format(len(users_withenough_artists)))"
   ]
  },
  {
   "cell_type": "code",
   "execution_count": 10,
   "metadata": {
    "collapsed": true
   },
   "outputs": [],
   "source": [
    "# filtering user_artists dataframe to include only users listening to more than 5 artists\n",
    "sel_user_art = pd.merge(users_withenough_artists, user_artists,\n",
    "                       how='inner', left_on='userID', right_on='userID')"
   ]
  },
  {
   "cell_type": "code",
   "execution_count": 11,
   "metadata": {},
   "outputs": [
    {
     "data": {
      "text/html": [
       "<div>\n",
       "<style>\n",
       "    .dataframe thead tr:only-child th {\n",
       "        text-align: right;\n",
       "    }\n",
       "\n",
       "    .dataframe thead th {\n",
       "        text-align: left;\n",
       "    }\n",
       "\n",
       "    .dataframe tbody tr th {\n",
       "        vertical-align: top;\n",
       "    }\n",
       "</style>\n",
       "<table border=\"1\" class=\"dataframe\">\n",
       "  <thead>\n",
       "    <tr style=\"text-align: right;\">\n",
       "      <th></th>\n",
       "      <th>norm_weight</th>\n",
       "    </tr>\n",
       "  </thead>\n",
       "  <tbody>\n",
       "    <tr>\n",
       "      <th>0</th>\n",
       "      <td>0.039360</td>\n",
       "    </tr>\n",
       "    <tr>\n",
       "      <th>1</th>\n",
       "      <td>0.033142</td>\n",
       "    </tr>\n",
       "    <tr>\n",
       "      <th>2</th>\n",
       "      <td>0.032181</td>\n",
       "    </tr>\n",
       "    <tr>\n",
       "      <th>3</th>\n",
       "      <td>0.029201</td>\n",
       "    </tr>\n",
       "    <tr>\n",
       "      <th>4</th>\n",
       "      <td>0.025467</td>\n",
       "    </tr>\n",
       "  </tbody>\n",
       "</table>\n",
       "</div>"
      ],
      "text/plain": [
       "   norm_weight\n",
       "0     0.039360\n",
       "1     0.033142\n",
       "2     0.032181\n",
       "3     0.029201\n",
       "4     0.025467"
      ]
     },
     "execution_count": 11,
     "metadata": {},
     "output_type": "execute_result"
    }
   ],
   "source": [
    "# normalizing weight(= listening count) column\n",
    "w = sel_user_art[['weight']].values.astype(float)\n",
    "min_max_scaler = preprocessing.MinMaxScaler()\n",
    "w_scaled = min_max_scaler.fit_transform(w)\n",
    "w_norm = pd.DataFrame(w_scaled)\n",
    "w_norm.columns = ['norm_weight']\n",
    "w_norm.head(5)"
   ]
  },
  {
   "cell_type": "code",
   "execution_count": 12,
   "metadata": {},
   "outputs": [
    {
     "data": {
      "text/html": [
       "<div>\n",
       "<style>\n",
       "    .dataframe thead tr:only-child th {\n",
       "        text-align: right;\n",
       "    }\n",
       "\n",
       "    .dataframe thead th {\n",
       "        text-align: left;\n",
       "    }\n",
       "\n",
       "    .dataframe tbody tr th {\n",
       "        vertical-align: top;\n",
       "    }\n",
       "</style>\n",
       "<table border=\"1\" class=\"dataframe\">\n",
       "  <thead>\n",
       "    <tr style=\"text-align: right;\">\n",
       "      <th></th>\n",
       "      <th>userID</th>\n",
       "      <th>artistID</th>\n",
       "      <th>norm_weight</th>\n",
       "    </tr>\n",
       "  </thead>\n",
       "  <tbody>\n",
       "    <tr>\n",
       "      <th>0</th>\n",
       "      <td>2</td>\n",
       "      <td>51</td>\n",
       "      <td>0.039360</td>\n",
       "    </tr>\n",
       "    <tr>\n",
       "      <th>1</th>\n",
       "      <td>2</td>\n",
       "      <td>52</td>\n",
       "      <td>0.033142</td>\n",
       "    </tr>\n",
       "    <tr>\n",
       "      <th>2</th>\n",
       "      <td>2</td>\n",
       "      <td>53</td>\n",
       "      <td>0.032181</td>\n",
       "    </tr>\n",
       "    <tr>\n",
       "      <th>3</th>\n",
       "      <td>2</td>\n",
       "      <td>54</td>\n",
       "      <td>0.029201</td>\n",
       "    </tr>\n",
       "    <tr>\n",
       "      <th>4</th>\n",
       "      <td>2</td>\n",
       "      <td>55</td>\n",
       "      <td>0.025467</td>\n",
       "    </tr>\n",
       "  </tbody>\n",
       "</table>\n",
       "</div>"
      ],
      "text/plain": [
       "   userID  artistID  norm_weight\n",
       "0       2        51     0.039360\n",
       "1       2        52     0.033142\n",
       "2       2        53     0.032181\n",
       "3       2        54     0.029201\n",
       "4       2        55     0.025467"
      ]
     },
     "execution_count": 12,
     "metadata": {},
     "output_type": "execute_result"
    }
   ],
   "source": [
    "# replacing weight column with normalized weight in sel_user_art dataframe\n",
    "sel_user_art_norm = pd.merge(sel_user_art, w_norm,\n",
    "                       how='inner', left_index=True, right_index=True)\n",
    "sel_user_art_norm = sel_user_art_norm.drop(['weight'], axis=1)\n",
    "sel_user_art_norm.head(5)"
   ]
  },
  {
   "cell_type": "code",
   "execution_count": 13,
   "metadata": {},
   "outputs": [
    {
     "name": "stdout",
     "output_type": "stream",
     "text": [
      "Number of users = 1877 and number of artists = 17617\n"
     ]
    }
   ],
   "source": [
    "n_users = sel_user_art_norm.userID.unique().shape[0]\n",
    "n_artists = sel_user_art_norm.artistID.unique().shape[0]\n",
    "print('Number of users = {} and number of artists = {}'.format(n_users, n_artists))"
   ]
  },
  {
   "cell_type": "code",
   "execution_count": 14,
   "metadata": {
    "collapsed": true
   },
   "outputs": [],
   "source": [
    "# splitting sel_user_art_norm into training and testing dataframes\n",
    "sel_train, sel_test = train_test_split(sel_user_art_norm,\n",
    "                                       stratify=sel_user_art_norm['userID'],\n",
    "                                       test_size=0.3, random_state=42)\n"
   ]
  },
  {
   "cell_type": "code",
   "execution_count": 15,
   "metadata": {},
   "outputs": [
    {
     "name": "stdout",
     "output_type": "stream",
     "text": [
      "Shape of train dataframe is (64960, 3)\n",
      "Shape of test dataframe is (27841, 3)\n"
     ]
    }
   ],
   "source": [
    "print('Shape of train dataframe is ' + str(sel_train.shape))\n",
    "print('Shape of test dataframe is ' + str(sel_test.shape))"
   ]
  },
  {
   "cell_type": "code",
   "execution_count": 16,
   "metadata": {},
   "outputs": [
    {
     "data": {
      "text/html": [
       "<div>\n",
       "<style>\n",
       "    .dataframe thead tr:only-child th {\n",
       "        text-align: right;\n",
       "    }\n",
       "\n",
       "    .dataframe thead th {\n",
       "        text-align: left;\n",
       "    }\n",
       "\n",
       "    .dataframe tbody tr th {\n",
       "        vertical-align: top;\n",
       "    }\n",
       "</style>\n",
       "<table border=\"1\" class=\"dataframe\">\n",
       "  <thead>\n",
       "    <tr>\n",
       "      <th></th>\n",
       "      <th colspan=\"21\" halign=\"left\">norm_weight</th>\n",
       "    </tr>\n",
       "    <tr>\n",
       "      <th>artistID</th>\n",
       "      <th>1</th>\n",
       "      <th>2</th>\n",
       "      <th>3</th>\n",
       "      <th>4</th>\n",
       "      <th>5</th>\n",
       "      <th>6</th>\n",
       "      <th>7</th>\n",
       "      <th>8</th>\n",
       "      <th>9</th>\n",
       "      <th>10</th>\n",
       "      <th>...</th>\n",
       "      <th>18736</th>\n",
       "      <th>18737</th>\n",
       "      <th>18738</th>\n",
       "      <th>18739</th>\n",
       "      <th>18740</th>\n",
       "      <th>18741</th>\n",
       "      <th>18742</th>\n",
       "      <th>18743</th>\n",
       "      <th>18744</th>\n",
       "      <th>18745</th>\n",
       "    </tr>\n",
       "    <tr>\n",
       "      <th>userID</th>\n",
       "      <th></th>\n",
       "      <th></th>\n",
       "      <th></th>\n",
       "      <th></th>\n",
       "      <th></th>\n",
       "      <th></th>\n",
       "      <th></th>\n",
       "      <th></th>\n",
       "      <th></th>\n",
       "      <th></th>\n",
       "      <th></th>\n",
       "      <th></th>\n",
       "      <th></th>\n",
       "      <th></th>\n",
       "      <th></th>\n",
       "      <th></th>\n",
       "      <th></th>\n",
       "      <th></th>\n",
       "      <th></th>\n",
       "      <th></th>\n",
       "      <th></th>\n",
       "    </tr>\n",
       "  </thead>\n",
       "  <tbody>\n",
       "    <tr>\n",
       "      <th>2</th>\n",
       "      <td>NaN</td>\n",
       "      <td>NaN</td>\n",
       "      <td>NaN</td>\n",
       "      <td>NaN</td>\n",
       "      <td>NaN</td>\n",
       "      <td>NaN</td>\n",
       "      <td>NaN</td>\n",
       "      <td>NaN</td>\n",
       "      <td>NaN</td>\n",
       "      <td>NaN</td>\n",
       "      <td>...</td>\n",
       "      <td>NaN</td>\n",
       "      <td>NaN</td>\n",
       "      <td>NaN</td>\n",
       "      <td>NaN</td>\n",
       "      <td>NaN</td>\n",
       "      <td>NaN</td>\n",
       "      <td>NaN</td>\n",
       "      <td>NaN</td>\n",
       "      <td>NaN</td>\n",
       "      <td>NaN</td>\n",
       "    </tr>\n",
       "    <tr>\n",
       "      <th>3</th>\n",
       "      <td>NaN</td>\n",
       "      <td>NaN</td>\n",
       "      <td>NaN</td>\n",
       "      <td>NaN</td>\n",
       "      <td>NaN</td>\n",
       "      <td>NaN</td>\n",
       "      <td>NaN</td>\n",
       "      <td>NaN</td>\n",
       "      <td>NaN</td>\n",
       "      <td>NaN</td>\n",
       "      <td>...</td>\n",
       "      <td>NaN</td>\n",
       "      <td>NaN</td>\n",
       "      <td>NaN</td>\n",
       "      <td>NaN</td>\n",
       "      <td>NaN</td>\n",
       "      <td>NaN</td>\n",
       "      <td>NaN</td>\n",
       "      <td>NaN</td>\n",
       "      <td>NaN</td>\n",
       "      <td>NaN</td>\n",
       "    </tr>\n",
       "    <tr>\n",
       "      <th>4</th>\n",
       "      <td>NaN</td>\n",
       "      <td>NaN</td>\n",
       "      <td>NaN</td>\n",
       "      <td>NaN</td>\n",
       "      <td>NaN</td>\n",
       "      <td>NaN</td>\n",
       "      <td>NaN</td>\n",
       "      <td>NaN</td>\n",
       "      <td>NaN</td>\n",
       "      <td>NaN</td>\n",
       "      <td>...</td>\n",
       "      <td>NaN</td>\n",
       "      <td>NaN</td>\n",
       "      <td>NaN</td>\n",
       "      <td>NaN</td>\n",
       "      <td>NaN</td>\n",
       "      <td>NaN</td>\n",
       "      <td>NaN</td>\n",
       "      <td>NaN</td>\n",
       "      <td>NaN</td>\n",
       "      <td>NaN</td>\n",
       "    </tr>\n",
       "    <tr>\n",
       "      <th>5</th>\n",
       "      <td>NaN</td>\n",
       "      <td>NaN</td>\n",
       "      <td>NaN</td>\n",
       "      <td>NaN</td>\n",
       "      <td>NaN</td>\n",
       "      <td>NaN</td>\n",
       "      <td>NaN</td>\n",
       "      <td>NaN</td>\n",
       "      <td>NaN</td>\n",
       "      <td>NaN</td>\n",
       "      <td>...</td>\n",
       "      <td>NaN</td>\n",
       "      <td>NaN</td>\n",
       "      <td>NaN</td>\n",
       "      <td>NaN</td>\n",
       "      <td>NaN</td>\n",
       "      <td>NaN</td>\n",
       "      <td>NaN</td>\n",
       "      <td>NaN</td>\n",
       "      <td>NaN</td>\n",
       "      <td>NaN</td>\n",
       "    </tr>\n",
       "    <tr>\n",
       "      <th>6</th>\n",
       "      <td>NaN</td>\n",
       "      <td>NaN</td>\n",
       "      <td>NaN</td>\n",
       "      <td>NaN</td>\n",
       "      <td>NaN</td>\n",
       "      <td>NaN</td>\n",
       "      <td>NaN</td>\n",
       "      <td>NaN</td>\n",
       "      <td>NaN</td>\n",
       "      <td>NaN</td>\n",
       "      <td>...</td>\n",
       "      <td>NaN</td>\n",
       "      <td>NaN</td>\n",
       "      <td>NaN</td>\n",
       "      <td>NaN</td>\n",
       "      <td>NaN</td>\n",
       "      <td>NaN</td>\n",
       "      <td>NaN</td>\n",
       "      <td>NaN</td>\n",
       "      <td>NaN</td>\n",
       "      <td>NaN</td>\n",
       "    </tr>\n",
       "  </tbody>\n",
       "</table>\n",
       "<p>5 rows × 17617 columns</p>\n",
       "</div>"
      ],
      "text/plain": [
       "         norm_weight                                                        \\\n",
       "artistID       1     2     3     4     5     6     7     8     9     10      \n",
       "userID                                                                       \n",
       "2                NaN   NaN   NaN   NaN   NaN   NaN   NaN   NaN   NaN   NaN   \n",
       "3                NaN   NaN   NaN   NaN   NaN   NaN   NaN   NaN   NaN   NaN   \n",
       "4                NaN   NaN   NaN   NaN   NaN   NaN   NaN   NaN   NaN   NaN   \n",
       "5                NaN   NaN   NaN   NaN   NaN   NaN   NaN   NaN   NaN   NaN   \n",
       "6                NaN   NaN   NaN   NaN   NaN   NaN   NaN   NaN   NaN   NaN   \n",
       "\n",
       "          ...                                                               \n",
       "artistID  ...  18736 18737 18738 18739 18740 18741 18742 18743 18744 18745  \n",
       "userID    ...                                                               \n",
       "2         ...    NaN   NaN   NaN   NaN   NaN   NaN   NaN   NaN   NaN   NaN  \n",
       "3         ...    NaN   NaN   NaN   NaN   NaN   NaN   NaN   NaN   NaN   NaN  \n",
       "4         ...    NaN   NaN   NaN   NaN   NaN   NaN   NaN   NaN   NaN   NaN  \n",
       "5         ...    NaN   NaN   NaN   NaN   NaN   NaN   NaN   NaN   NaN   NaN  \n",
       "6         ...    NaN   NaN   NaN   NaN   NaN   NaN   NaN   NaN   NaN   NaN  \n",
       "\n",
       "[5 rows x 17617 columns]"
      ]
     },
     "execution_count": 16,
     "metadata": {},
     "output_type": "execute_result"
    }
   ],
   "source": [
    "# reshaping sel_user_art dataframe\n",
    "p_sel_user_art = pd.pivot_table(sel_user_art_norm, index='userID',\n",
    "                                columns='artistID', aggfunc=np.max)\n",
    "p_sel_user_art.head(5)"
   ]
  },
  {
   "cell_type": "code",
   "execution_count": 17,
   "metadata": {
    "collapsed": true
   },
   "outputs": [],
   "source": [
    "# reshaping training and testing dataframes\n",
    "p_sel_train = pd.pivot_table(sel_train, index='userID',\n",
    "                             columns='artistID', aggfunc=np.max)\n",
    "p_sel_test = pd.pivot_table(sel_test, index='userID',\n",
    "                            columns='artistID', aggfunc=np.max)"
   ]
  },
  {
   "cell_type": "code",
   "execution_count": 18,
   "metadata": {
    "scrolled": true
   },
   "outputs": [
    {
     "name": "stdout",
     "output_type": "stream",
     "text": [
      "Shape of reshaped train dataframe is (1877, 14199)\n",
      "Shape of reshaped test dataframe is (1877, 8258)\n"
     ]
    }
   ],
   "source": [
    "print('Shape of reshaped train dataframe is ' + str(p_sel_train.shape))\n",
    "print('Shape of reshaped test dataframe is ' + str(p_sel_test.shape))"
   ]
  },
  {
   "cell_type": "code",
   "execution_count": 19,
   "metadata": {
    "collapsed": true
   },
   "outputs": [],
   "source": [
    "# replacing NaN values with 0 \n",
    "p_sel_train0 = p_sel_train.fillna(0)\n",
    "p_sel_test0 = p_sel_test.fillna(0)"
   ]
  },
  {
   "cell_type": "code",
   "execution_count": 20,
   "metadata": {
    "scrolled": true
   },
   "outputs": [
    {
     "data": {
      "text/plain": [
       "userID\n",
       "2    2.572552e-05\n",
       "3    3.546764e-06\n",
       "4    3.974884e-06\n",
       "5    1.772583e-06\n",
       "6    1.234039e-07\n",
       "dtype: float64"
      ]
     },
     "execution_count": 20,
     "metadata": {},
     "output_type": "execute_result"
    }
   ],
   "source": [
    "# finding mean norm_weight per user\n",
    "mean_p_train = p_sel_train0.mean(axis=1)\n",
    "mean_p_train.head(5)"
   ]
  },
  {
   "cell_type": "markdown",
   "metadata": {},
   "source": [
    "### Collaborative Filtering Approach using Cosine Similarity"
   ]
  },
  {
   "cell_type": "code",
   "execution_count": 61,
   "metadata": {
    "collapsed": true
   },
   "outputs": [],
   "source": [
    "# calculating cosine similarity for users and artists\n",
    "user_sim = pairwise_distances(p_sel_train0, metric='cosine')\n",
    "art_sim = pairwise_distances(p_sel_train0.T, metric='cosine')"
   ]
  },
  {
   "cell_type": "code",
   "execution_count": 70,
   "metadata": {},
   "outputs": [
    {
     "name": "stdout",
     "output_type": "stream",
     "text": [
      "Shape of user_sim is (1877, 1877)\n",
      "Shape of art_sim is (14199, 14199)\n"
     ]
    }
   ],
   "source": [
    "print('Shape of user_sim is ' + str(user_sim.shape))\n",
    "print('Shape of art_sim is ' + str(art_sim.shape))"
   ]
  },
  {
   "cell_type": "code",
   "execution_count": 107,
   "metadata": {
    "collapsed": true
   },
   "outputs": [],
   "source": [
    "# defining function for predictions using cosine similarity\n",
    "def pred(weight, similarity, type='user'):\n",
    "    if type == 'user':\n",
    "        mean_user_weight = weight.mean(axis=1)\n",
    "        weight_diff = weight.sub(mean_user_weight, axis=0)\n",
    "        pred = pd.DataFrame(similarity.dot(weight_diff) / \n",
    "                            np.array([np.abs(similarity).sum(axis=1)]).T).add(mean_user_weight,\n",
    "                                                                              axis=0)\n",
    "    elif type == 'artist':\n",
    "        pred = pd.DataFrame(weight.dot(similarity)) / pd.DataFrame(np.array([np.abs(similarity).sum(axis=1)]))\n",
    "    return pred.as_matrix()"
   ]
  },
  {
   "cell_type": "code",
   "execution_count": 108,
   "metadata": {
    "collapsed": true,
    "scrolled": false
   },
   "outputs": [],
   "source": [
    "# calculating prediction matrix based on user similarity\n",
    "user_prediction = pred(p_sel_train0, user_sim, type='user')"
   ]
  },
  {
   "cell_type": "code",
   "execution_count": 109,
   "metadata": {
    "collapsed": true
   },
   "outputs": [],
   "source": [
    "# calculating prediction matrix based on artist similarity\n",
    "artist_prediction = pred(p_sel_train0, art_sim, type='artist')"
   ]
  },
  {
   "cell_type": "code",
   "execution_count": 111,
   "metadata": {
    "collapsed": true
   },
   "outputs": [],
   "source": [
    "# defining function for RMSE\n",
    "def rmse(prediction, ground_truth):\n",
    "    prediction = prediction[ground_truth.nonzero()].flatten()\n",
    "    ground_truth = ground_truth[ground_truth.nonzero()].flatten()\n",
    "    mse = mean_squared_error(np.nan_to_num(prediction),\n",
    "                             np.nan_to_num(ground_truth))\n",
    "    return sqrt(mse)"
   ]
  },
  {
   "cell_type": "code",
   "execution_count": 113,
   "metadata": {},
   "outputs": [
    {
     "name": "stdout",
     "output_type": "stream",
     "text": [
      "User-based Collaborative Filtering RMSE: 0.014135628133673339\n",
      "Artist-based Collaborative Filtering RMSE: 0.014139934958276132\n"
     ]
    }
   ],
   "source": [
    "# converting p_sel_test0 dataframe to matrix\n",
    "m_sel_test = p_sel_test0.as_matrix()\n",
    "\n",
    "print('User-based Collaborative Filtering RMSE: ' + str(rmse(user_prediction, m_sel_test)))\n",
    "print('Artist-based Collaborative Filtering RMSE: ' + str(rmse(artist_prediction, m_sel_test)))"
   ]
  },
  {
   "cell_type": "markdown",
   "metadata": {},
   "source": [
    "### Model-Based Collaborative Filtering Approach using Matrix Factorization"
   ]
  },
  {
   "cell_type": "code",
   "execution_count": 114,
   "metadata": {
    "scrolled": true
   },
   "outputs": [
    {
     "data": {
      "text/plain": [
       "'\\nU, M = matrix_factorization_utilities.low_rank_matrix_factorization(p_sel_user_art.as_matrix(),\\n                                                                   num_features=5,\\n                                                                   regularization_amount=0.1)\\npred_weight = np.matmul(U, M)\\n'"
      ]
     },
     "execution_count": 114,
     "metadata": {},
     "output_type": "execute_result"
    }
   ],
   "source": [
    "# due to time it takes to run, output was saved to csv, and loaded for subsequent analysis\n",
    "# using entire dataset for sample recommendation list to chosen userID\n",
    "\n",
    "'''\n",
    "U, M = matrix_factorization_utilities.low_rank_matrix_factorization(p_sel_user_art.as_matrix(),\n",
    "                                                                   num_features=5,\n",
    "                                                                   regularization_amount=0.1)\n",
    "pred_weight = np.matmul(U, M)\n",
    "'''"
   ]
  },
  {
   "cell_type": "code",
   "execution_count": 115,
   "metadata": {},
   "outputs": [
    {
     "data": {
      "text/plain": [
       "\"\\npred_weight_results = pd.DataFrame(index=p_sel_user_art.index,\\n                             columns=p_sel_user_art.columns,\\n                             data=pred_weight)\\npred_weight_results.to_csv('pred_weight_results.csv')\\npred_weight_results.head(5)\\n\""
      ]
     },
     "execution_count": 115,
     "metadata": {},
     "output_type": "execute_result"
    }
   ],
   "source": [
    "'''\n",
    "pred_weight_results = pd.DataFrame(index=p_sel_user_art.index,\n",
    "                             columns=p_sel_user_art.columns,\n",
    "                             data=pred_weight)\n",
    "pred_weight_results.to_csv('pred_weight_results.csv')\n",
    "pred_weight_results.head(5)\n",
    "'''"
   ]
  },
  {
   "cell_type": "code",
   "execution_count": 21,
   "metadata": {},
   "outputs": [
    {
     "data": {
      "text/html": [
       "<div>\n",
       "<style>\n",
       "    .dataframe thead tr:only-child th {\n",
       "        text-align: right;\n",
       "    }\n",
       "\n",
       "    .dataframe thead th {\n",
       "        text-align: left;\n",
       "    }\n",
       "\n",
       "    .dataframe tbody tr th {\n",
       "        vertical-align: top;\n",
       "    }\n",
       "</style>\n",
       "<table border=\"1\" class=\"dataframe\">\n",
       "  <thead>\n",
       "    <tr>\n",
       "      <th></th>\n",
       "      <th colspan=\"21\" halign=\"left\">norm_weight</th>\n",
       "    </tr>\n",
       "    <tr>\n",
       "      <th>artistID</th>\n",
       "      <th>1</th>\n",
       "      <th>2</th>\n",
       "      <th>3</th>\n",
       "      <th>4</th>\n",
       "      <th>5</th>\n",
       "      <th>6</th>\n",
       "      <th>7</th>\n",
       "      <th>8</th>\n",
       "      <th>9</th>\n",
       "      <th>10</th>\n",
       "      <th>...</th>\n",
       "      <th>18736</th>\n",
       "      <th>18737</th>\n",
       "      <th>18738</th>\n",
       "      <th>18739</th>\n",
       "      <th>18740</th>\n",
       "      <th>18741</th>\n",
       "      <th>18742</th>\n",
       "      <th>18743</th>\n",
       "      <th>18744</th>\n",
       "      <th>18745</th>\n",
       "    </tr>\n",
       "    <tr>\n",
       "      <th>userID</th>\n",
       "      <th></th>\n",
       "      <th></th>\n",
       "      <th></th>\n",
       "      <th></th>\n",
       "      <th></th>\n",
       "      <th></th>\n",
       "      <th></th>\n",
       "      <th></th>\n",
       "      <th></th>\n",
       "      <th></th>\n",
       "      <th></th>\n",
       "      <th></th>\n",
       "      <th></th>\n",
       "      <th></th>\n",
       "      <th></th>\n",
       "      <th></th>\n",
       "      <th></th>\n",
       "      <th></th>\n",
       "      <th></th>\n",
       "      <th></th>\n",
       "      <th></th>\n",
       "    </tr>\n",
       "  </thead>\n",
       "  <tbody>\n",
       "    <tr>\n",
       "      <th>2</th>\n",
       "      <td>1.304602e-05</td>\n",
       "      <td>6.391310e-05</td>\n",
       "      <td>1.243568e-06</td>\n",
       "      <td>3.679395e-06</td>\n",
       "      <td>1.425435e-05</td>\n",
       "      <td>1.019868e-04</td>\n",
       "      <td>0.001303</td>\n",
       "      <td>0.000334</td>\n",
       "      <td>1.564882e-04</td>\n",
       "      <td>9.339306e-05</td>\n",
       "      <td>...</td>\n",
       "      <td>6.875998e-06</td>\n",
       "      <td>4.377771e-06</td>\n",
       "      <td>3.187393e-06</td>\n",
       "      <td>2.960281e-06</td>\n",
       "      <td>2.498227e-06</td>\n",
       "      <td>2.349430e-06</td>\n",
       "      <td>2.294610e-06</td>\n",
       "      <td>2.239790e-06</td>\n",
       "      <td>2.231958e-06</td>\n",
       "      <td>1.610477e-05</td>\n",
       "    </tr>\n",
       "    <tr>\n",
       "      <th>3</th>\n",
       "      <td>1.482237e-07</td>\n",
       "      <td>9.258858e-07</td>\n",
       "      <td>1.919372e-08</td>\n",
       "      <td>5.001578e-08</td>\n",
       "      <td>1.799080e-07</td>\n",
       "      <td>1.234436e-06</td>\n",
       "      <td>0.000033</td>\n",
       "      <td>0.000004</td>\n",
       "      <td>2.236097e-06</td>\n",
       "      <td>9.321376e-07</td>\n",
       "      <td>...</td>\n",
       "      <td>9.295518e-08</td>\n",
       "      <td>5.918217e-08</td>\n",
       "      <td>4.308970e-08</td>\n",
       "      <td>4.001943e-08</td>\n",
       "      <td>3.377301e-08</td>\n",
       "      <td>3.176145e-08</td>\n",
       "      <td>3.102035e-08</td>\n",
       "      <td>3.027925e-08</td>\n",
       "      <td>3.017338e-08</td>\n",
       "      <td>1.864148e-07</td>\n",
       "    </tr>\n",
       "    <tr>\n",
       "      <th>4</th>\n",
       "      <td>4.846747e-06</td>\n",
       "      <td>1.193999e-05</td>\n",
       "      <td>4.260899e-07</td>\n",
       "      <td>5.279614e-07</td>\n",
       "      <td>2.080239e-06</td>\n",
       "      <td>1.551336e-05</td>\n",
       "      <td>0.000122</td>\n",
       "      <td>0.000052</td>\n",
       "      <td>6.013529e-05</td>\n",
       "      <td>1.484893e-05</td>\n",
       "      <td>...</td>\n",
       "      <td>1.710689e-06</td>\n",
       "      <td>1.089152e-06</td>\n",
       "      <td>7.929958e-07</td>\n",
       "      <td>7.364924e-07</td>\n",
       "      <td>6.215373e-07</td>\n",
       "      <td>5.845178e-07</td>\n",
       "      <td>5.708791e-07</td>\n",
       "      <td>5.572403e-07</td>\n",
       "      <td>5.552919e-07</td>\n",
       "      <td>2.016107e-06</td>\n",
       "    </tr>\n",
       "    <tr>\n",
       "      <th>5</th>\n",
       "      <td>1.638916e-06</td>\n",
       "      <td>8.456203e-06</td>\n",
       "      <td>1.955225e-07</td>\n",
       "      <td>4.929140e-07</td>\n",
       "      <td>1.616318e-06</td>\n",
       "      <td>1.220160e-05</td>\n",
       "      <td>0.000267</td>\n",
       "      <td>0.000036</td>\n",
       "      <td>2.740684e-05</td>\n",
       "      <td>1.015651e-05</td>\n",
       "      <td>...</td>\n",
       "      <td>8.813397e-07</td>\n",
       "      <td>5.611263e-07</td>\n",
       "      <td>4.085481e-07</td>\n",
       "      <td>3.794378e-07</td>\n",
       "      <td>3.202134e-07</td>\n",
       "      <td>3.011411e-07</td>\n",
       "      <td>2.941145e-07</td>\n",
       "      <td>2.870879e-07</td>\n",
       "      <td>2.860841e-07</td>\n",
       "      <td>1.757022e-06</td>\n",
       "    </tr>\n",
       "    <tr>\n",
       "      <th>6</th>\n",
       "      <td>4.261186e-08</td>\n",
       "      <td>2.746639e-07</td>\n",
       "      <td>5.544620e-09</td>\n",
       "      <td>1.486421e-08</td>\n",
       "      <td>5.581256e-08</td>\n",
       "      <td>4.053240e-07</td>\n",
       "      <td>0.000010</td>\n",
       "      <td>0.000001</td>\n",
       "      <td>5.969183e-07</td>\n",
       "      <td>3.233597e-07</td>\n",
       "      <td>...</td>\n",
       "      <td>2.694114e-08</td>\n",
       "      <td>1.715273e-08</td>\n",
       "      <td>1.248866e-08</td>\n",
       "      <td>1.159881e-08</td>\n",
       "      <td>9.788410e-09</td>\n",
       "      <td>9.205401e-09</td>\n",
       "      <td>8.990608e-09</td>\n",
       "      <td>8.775816e-09</td>\n",
       "      <td>8.745131e-09</td>\n",
       "      <td>6.104573e-08</td>\n",
       "    </tr>\n",
       "  </tbody>\n",
       "</table>\n",
       "<p>5 rows × 17617 columns</p>\n",
       "</div>"
      ],
      "text/plain": [
       "           norm_weight                                            \\\n",
       "artistID             1             2             3             4   \n",
       "userID                                                             \n",
       "2         1.304602e-05  6.391310e-05  1.243568e-06  3.679395e-06   \n",
       "3         1.482237e-07  9.258858e-07  1.919372e-08  5.001578e-08   \n",
       "4         4.846747e-06  1.193999e-05  4.260899e-07  5.279614e-07   \n",
       "5         1.638916e-06  8.456203e-06  1.955225e-07  4.929140e-07   \n",
       "6         4.261186e-08  2.746639e-07  5.544620e-09  1.486421e-08   \n",
       "\n",
       "                                                                        \\\n",
       "artistID             5             6         7         8             9   \n",
       "userID                                                                   \n",
       "2         1.425435e-05  1.019868e-04  0.001303  0.000334  1.564882e-04   \n",
       "3         1.799080e-07  1.234436e-06  0.000033  0.000004  2.236097e-06   \n",
       "4         2.080239e-06  1.551336e-05  0.000122  0.000052  6.013529e-05   \n",
       "5         1.616318e-06  1.220160e-05  0.000267  0.000036  2.740684e-05   \n",
       "6         5.581256e-08  4.053240e-07  0.000010  0.000001  5.969183e-07   \n",
       "\n",
       "                            ...                                   \\\n",
       "artistID            10      ...              18736         18737   \n",
       "userID                      ...                                    \n",
       "2         9.339306e-05      ...       6.875998e-06  4.377771e-06   \n",
       "3         9.321376e-07      ...       9.295518e-08  5.918217e-08   \n",
       "4         1.484893e-05      ...       1.710689e-06  1.089152e-06   \n",
       "5         1.015651e-05      ...       8.813397e-07  5.611263e-07   \n",
       "6         3.233597e-07      ...       2.694114e-08  1.715273e-08   \n",
       "\n",
       "                                                                  \\\n",
       "artistID         18738         18739         18740         18741   \n",
       "userID                                                             \n",
       "2         3.187393e-06  2.960281e-06  2.498227e-06  2.349430e-06   \n",
       "3         4.308970e-08  4.001943e-08  3.377301e-08  3.176145e-08   \n",
       "4         7.929958e-07  7.364924e-07  6.215373e-07  5.845178e-07   \n",
       "5         4.085481e-07  3.794378e-07  3.202134e-07  3.011411e-07   \n",
       "6         1.248866e-08  1.159881e-08  9.788410e-09  9.205401e-09   \n",
       "\n",
       "                                                                  \n",
       "artistID         18742         18743         18744         18745  \n",
       "userID                                                            \n",
       "2         2.294610e-06  2.239790e-06  2.231958e-06  1.610477e-05  \n",
       "3         3.102035e-08  3.027925e-08  3.017338e-08  1.864148e-07  \n",
       "4         5.708791e-07  5.572403e-07  5.552919e-07  2.016107e-06  \n",
       "5         2.941145e-07  2.870879e-07  2.860841e-07  1.757022e-06  \n",
       "6         8.990608e-09  8.775816e-09  8.745131e-09  6.104573e-08  \n",
       "\n",
       "[5 rows x 17617 columns]"
      ]
     },
     "execution_count": 21,
     "metadata": {},
     "output_type": "execute_result"
    }
   ],
   "source": [
    "# loading csv file containing matrix factorization results\n",
    "pred_weight_df = pd.read_csv('pred_weight_results.csv',\n",
    "                             delimiter=',', header=[0,1],\n",
    "                             index_col=0, low_memory=False)\n",
    "\n",
    "pred_weight_df.head(5)"
   ]
  },
  {
   "cell_type": "code",
   "execution_count": 22,
   "metadata": {},
   "outputs": [
    {
     "name": "stdout",
     "output_type": "stream",
     "text": [
      "Enter a user_id to get recommendations:\n",
      "3\n"
     ]
    }
   ],
   "source": [
    "# asking for userID input to look for recommendations\n",
    "print(\"Enter a user_id to get recommendations:\")\n",
    "user_id_to_search = int(input())"
   ]
  },
  {
   "cell_type": "code",
   "execution_count": 81,
   "metadata": {
    "scrolled": false
   },
   "outputs": [
    {
     "name": "stdout",
     "output_type": "stream",
     "text": [
      "Sample artists listened to by user_id 3:\n"
     ]
    },
    {
     "data": {
      "text/html": [
       "<div>\n",
       "<style>\n",
       "    .dataframe thead tr:only-child th {\n",
       "        text-align: right;\n",
       "    }\n",
       "\n",
       "    .dataframe thead th {\n",
       "        text-align: left;\n",
       "    }\n",
       "\n",
       "    .dataframe tbody tr th {\n",
       "        vertical-align: top;\n",
       "    }\n",
       "</style>\n",
       "<table border=\"1\" class=\"dataframe\">\n",
       "  <thead>\n",
       "    <tr style=\"text-align: right;\">\n",
       "      <th></th>\n",
       "      <th>userID</th>\n",
       "      <th>artistID</th>\n",
       "      <th>norm_weight</th>\n",
       "      <th>name</th>\n",
       "      <th>url</th>\n",
       "      <th>pictureURL</th>\n",
       "    </tr>\n",
       "  </thead>\n",
       "  <tbody>\n",
       "    <tr>\n",
       "      <th>50</th>\n",
       "      <td>3</td>\n",
       "      <td>101</td>\n",
       "      <td>0.037355</td>\n",
       "      <td>Pleq</td>\n",
       "      <td>http://www.last.fm/music/Pleq</td>\n",
       "      <td>http://userserve-ak.last.fm/serve/252/58414481...</td>\n",
       "    </tr>\n",
       "    <tr>\n",
       "      <th>51</th>\n",
       "      <td>3</td>\n",
       "      <td>102</td>\n",
       "      <td>0.001874</td>\n",
       "      <td>Segue</td>\n",
       "      <td>http://www.last.fm/music/Segue</td>\n",
       "      <td>http://userserve-ak.last.fm/serve/252/38568681...</td>\n",
       "    </tr>\n",
       "    <tr>\n",
       "      <th>52</th>\n",
       "      <td>3</td>\n",
       "      <td>103</td>\n",
       "      <td>0.001395</td>\n",
       "      <td>Max Richter</td>\n",
       "      <td>http://www.last.fm/music/Max+Richter</td>\n",
       "      <td>http://userserve-ak.last.fm/serve/252/51974589...</td>\n",
       "    </tr>\n",
       "    <tr>\n",
       "      <th>53</th>\n",
       "      <td>3</td>\n",
       "      <td>104</td>\n",
       "      <td>0.001219</td>\n",
       "      <td>Celer</td>\n",
       "      <td>http://www.last.fm/music/Celer</td>\n",
       "      <td>http://userserve-ak.last.fm/serve/252/43677713...</td>\n",
       "    </tr>\n",
       "    <tr>\n",
       "      <th>54</th>\n",
       "      <td>3</td>\n",
       "      <td>105</td>\n",
       "      <td>0.001140</td>\n",
       "      <td>Pjusk</td>\n",
       "      <td>http://www.last.fm/music/Pjusk</td>\n",
       "      <td>http://userserve-ak.last.fm/serve/252/43518367...</td>\n",
       "    </tr>\n",
       "  </tbody>\n",
       "</table>\n",
       "</div>"
      ],
      "text/plain": [
       "    userID  artistID  norm_weight         name  \\\n",
       "50       3       101     0.037355         Pleq   \n",
       "51       3       102     0.001874        Segue   \n",
       "52       3       103     0.001395  Max Richter   \n",
       "53       3       104     0.001219        Celer   \n",
       "54       3       105     0.001140        Pjusk   \n",
       "\n",
       "                                     url  \\\n",
       "50         http://www.last.fm/music/Pleq   \n",
       "51        http://www.last.fm/music/Segue   \n",
       "52  http://www.last.fm/music/Max+Richter   \n",
       "53        http://www.last.fm/music/Celer   \n",
       "54        http://www.last.fm/music/Pjusk   \n",
       "\n",
       "                                           pictureURL  \n",
       "50  http://userserve-ak.last.fm/serve/252/58414481...  \n",
       "51  http://userserve-ak.last.fm/serve/252/38568681...  \n",
       "52  http://userserve-ak.last.fm/serve/252/51974589...  \n",
       "53  http://userserve-ak.last.fm/serve/252/43677713...  \n",
       "54  http://userserve-ak.last.fm/serve/252/43518367...  "
      ]
     },
     "execution_count": 81,
     "metadata": {},
     "output_type": "execute_result"
    }
   ],
   "source": [
    "print(\"Sample artists listened to by user_id {}:\".format(user_id_to_search))\n",
    "\n",
    "art_userID = sel_user_art_norm[sel_user_art_norm['userID'] == user_id_to_search]\n",
    "art_userID = art_userID.join(artists, on='artistID')\n",
    "art_userID = art_userID.sort_values(by=['norm_weight'], ascending=False)\n",
    "\n",
    "art_userID.head(5)"
   ]
  },
  {
   "cell_type": "code",
   "execution_count": 76,
   "metadata": {
    "scrolled": true
   },
   "outputs": [
    {
     "data": {
      "text/html": [
       "<div>\n",
       "<style>\n",
       "    .dataframe thead tr:only-child th {\n",
       "        text-align: right;\n",
       "    }\n",
       "\n",
       "    .dataframe thead th {\n",
       "        text-align: left;\n",
       "    }\n",
       "\n",
       "    .dataframe tbody tr th {\n",
       "        vertical-align: top;\n",
       "    }\n",
       "</style>\n",
       "<table border=\"1\" class=\"dataframe\">\n",
       "  <thead>\n",
       "    <tr style=\"text-align: right;\">\n",
       "      <th></th>\n",
       "      <th>pred_norm_weight</th>\n",
       "    </tr>\n",
       "    <tr>\n",
       "      <th>artistID</th>\n",
       "      <th></th>\n",
       "    </tr>\n",
       "  </thead>\n",
       "  <tbody>\n",
       "    <tr>\n",
       "      <th>1</th>\n",
       "      <td>1.482237e-07</td>\n",
       "    </tr>\n",
       "    <tr>\n",
       "      <th>2</th>\n",
       "      <td>9.258858e-07</td>\n",
       "    </tr>\n",
       "    <tr>\n",
       "      <th>3</th>\n",
       "      <td>1.919372e-08</td>\n",
       "    </tr>\n",
       "    <tr>\n",
       "      <th>4</th>\n",
       "      <td>5.001578e-08</td>\n",
       "    </tr>\n",
       "    <tr>\n",
       "      <th>5</th>\n",
       "      <td>1.799080e-07</td>\n",
       "    </tr>\n",
       "  </tbody>\n",
       "</table>\n",
       "</div>"
      ],
      "text/plain": [
       "          pred_norm_weight\n",
       "artistID                  \n",
       "1             1.482237e-07\n",
       "2             9.258858e-07\n",
       "3             1.919372e-08\n",
       "4             5.001578e-08\n",
       "5             1.799080e-07"
      ]
     },
     "execution_count": 76,
     "metadata": {},
     "output_type": "execute_result"
    }
   ],
   "source": [
    "# filtering user preferences into dataframe\n",
    "user_pref = pred_weight_df.loc[pred_weight_df.index == user_id_to_search].T\n",
    "user_pref = user_pref.reset_index(level=[0])\n",
    "user_pref = user_pref.drop(['level_0'], axis=1)\n",
    "user_pref.columns = ['pred_norm_weight']\n",
    "user_pref = user_pref.reset_index()\n",
    "user_pref[['artistID']] = user_pref[['artistID']].astype(int)\n",
    "user_pref_df = user_pref.set_index(['artistID'])\n",
    "user_pref_df.head(5)"
   ]
  },
  {
   "cell_type": "code",
   "execution_count": 83,
   "metadata": {
    "scrolled": false
   },
   "outputs": [
    {
     "data": {
      "text/html": [
       "<div>\n",
       "<style>\n",
       "    .dataframe thead tr:only-child th {\n",
       "        text-align: right;\n",
       "    }\n",
       "\n",
       "    .dataframe thead th {\n",
       "        text-align: left;\n",
       "    }\n",
       "\n",
       "    .dataframe tbody tr th {\n",
       "        vertical-align: top;\n",
       "    }\n",
       "</style>\n",
       "<table border=\"1\" class=\"dataframe\">\n",
       "  <thead>\n",
       "    <tr style=\"text-align: right;\">\n",
       "      <th></th>\n",
       "      <th>name</th>\n",
       "      <th>url</th>\n",
       "      <th>pictureURL</th>\n",
       "      <th>pred_norm_weight</th>\n",
       "    </tr>\n",
       "    <tr>\n",
       "      <th>artistID</th>\n",
       "      <th></th>\n",
       "      <th></th>\n",
       "      <th></th>\n",
       "      <th></th>\n",
       "    </tr>\n",
       "  </thead>\n",
       "  <tbody>\n",
       "    <tr>\n",
       "      <th>1</th>\n",
       "      <td>MALICE MIZER</td>\n",
       "      <td>http://www.last.fm/music/MALICE+MIZER</td>\n",
       "      <td>http://userserve-ak.last.fm/serve/252/10808.jpg</td>\n",
       "      <td>1.482237e-07</td>\n",
       "    </tr>\n",
       "    <tr>\n",
       "      <th>2</th>\n",
       "      <td>Diary of Dreams</td>\n",
       "      <td>http://www.last.fm/music/Diary+of+Dreams</td>\n",
       "      <td>http://userserve-ak.last.fm/serve/252/3052066.jpg</td>\n",
       "      <td>9.258858e-07</td>\n",
       "    </tr>\n",
       "    <tr>\n",
       "      <th>3</th>\n",
       "      <td>Carpathian Forest</td>\n",
       "      <td>http://www.last.fm/music/Carpathian+Forest</td>\n",
       "      <td>http://userserve-ak.last.fm/serve/252/40222717...</td>\n",
       "      <td>1.919372e-08</td>\n",
       "    </tr>\n",
       "    <tr>\n",
       "      <th>4</th>\n",
       "      <td>Moi dix Mois</td>\n",
       "      <td>http://www.last.fm/music/Moi+dix+Mois</td>\n",
       "      <td>http://userserve-ak.last.fm/serve/252/54697835...</td>\n",
       "      <td>5.001578e-08</td>\n",
       "    </tr>\n",
       "    <tr>\n",
       "      <th>5</th>\n",
       "      <td>Bella Morte</td>\n",
       "      <td>http://www.last.fm/music/Bella+Morte</td>\n",
       "      <td>http://userserve-ak.last.fm/serve/252/14789013...</td>\n",
       "      <td>1.799080e-07</td>\n",
       "    </tr>\n",
       "  </tbody>\n",
       "</table>\n",
       "</div>"
      ],
      "text/plain": [
       "                       name                                         url  \\\n",
       "artistID                                                                  \n",
       "1              MALICE MIZER       http://www.last.fm/music/MALICE+MIZER   \n",
       "2           Diary of Dreams    http://www.last.fm/music/Diary+of+Dreams   \n",
       "3         Carpathian Forest  http://www.last.fm/music/Carpathian+Forest   \n",
       "4              Moi dix Mois       http://www.last.fm/music/Moi+dix+Mois   \n",
       "5               Bella Morte        http://www.last.fm/music/Bella+Morte   \n",
       "\n",
       "                                                 pictureURL  pred_norm_weight  \n",
       "artistID                                                                       \n",
       "1           http://userserve-ak.last.fm/serve/252/10808.jpg      1.482237e-07  \n",
       "2         http://userserve-ak.last.fm/serve/252/3052066.jpg      9.258858e-07  \n",
       "3         http://userserve-ak.last.fm/serve/252/40222717...      1.919372e-08  \n",
       "4         http://userserve-ak.last.fm/serve/252/54697835...      5.001578e-08  \n",
       "5         http://userserve-ak.last.fm/serve/252/14789013...      1.799080e-07  "
      ]
     },
     "execution_count": 83,
     "metadata": {},
     "output_type": "execute_result"
    }
   ],
   "source": [
    "# matching predicted weight to artists\n",
    "user_pref_art = pd.merge(artists, user_pref_df, how='inner', \n",
    "                         left_index=True, right_index=True)\n",
    "user_pref_art.head(5)"
   ]
  },
  {
   "cell_type": "code",
   "execution_count": 84,
   "metadata": {},
   "outputs": [
    {
     "name": "stdout",
     "output_type": "stream",
     "text": [
      "Artists to recommend:\n"
     ]
    },
    {
     "data": {
      "text/html": [
       "<div>\n",
       "<style>\n",
       "    .dataframe thead tr:only-child th {\n",
       "        text-align: right;\n",
       "    }\n",
       "\n",
       "    .dataframe thead th {\n",
       "        text-align: left;\n",
       "    }\n",
       "\n",
       "    .dataframe tbody tr th {\n",
       "        vertical-align: top;\n",
       "    }\n",
       "</style>\n",
       "<table border=\"1\" class=\"dataframe\">\n",
       "  <thead>\n",
       "    <tr style=\"text-align: right;\">\n",
       "      <th></th>\n",
       "      <th>name</th>\n",
       "      <th>url</th>\n",
       "      <th>pictureURL</th>\n",
       "      <th>pred_norm_weight</th>\n",
       "    </tr>\n",
       "    <tr>\n",
       "      <th>artistID</th>\n",
       "      <th></th>\n",
       "      <th></th>\n",
       "      <th></th>\n",
       "      <th></th>\n",
       "    </tr>\n",
       "  </thead>\n",
       "  <tbody>\n",
       "    <tr>\n",
       "      <th>89</th>\n",
       "      <td>Lady Gaga</td>\n",
       "      <td>http://www.last.fm/music/Lady+Gaga</td>\n",
       "      <td>http://userserve-ak.last.fm/serve/252/47390093...</td>\n",
       "      <td>0.000290</td>\n",
       "    </tr>\n",
       "    <tr>\n",
       "      <th>707</th>\n",
       "      <td>Metallica</td>\n",
       "      <td>http://www.last.fm/music/Metallica</td>\n",
       "      <td>http://userserve-ak.last.fm/serve/252/7560709.jpg</td>\n",
       "      <td>0.000224</td>\n",
       "    </tr>\n",
       "    <tr>\n",
       "      <th>289</th>\n",
       "      <td>Britney Spears</td>\n",
       "      <td>http://www.last.fm/music/Britney+Spears</td>\n",
       "      <td>http://userserve-ak.last.fm/serve/252/60126439...</td>\n",
       "      <td>0.000213</td>\n",
       "    </tr>\n",
       "    <tr>\n",
       "      <th>792</th>\n",
       "      <td>Thalía</td>\n",
       "      <td>http://www.last.fm/music/Thal%C3%ADa</td>\n",
       "      <td>http://userserve-ak.last.fm/serve/252/40337541...</td>\n",
       "      <td>0.000196</td>\n",
       "    </tr>\n",
       "    <tr>\n",
       "      <th>378</th>\n",
       "      <td>Evanescence</td>\n",
       "      <td>http://www.last.fm/music/Evanescence</td>\n",
       "      <td>http://userserve-ak.last.fm/serve/252/8403975.jpg</td>\n",
       "      <td>0.000181</td>\n",
       "    </tr>\n",
       "  </tbody>\n",
       "</table>\n",
       "</div>"
      ],
      "text/plain": [
       "                    name                                      url  \\\n",
       "artistID                                                            \n",
       "89             Lady Gaga       http://www.last.fm/music/Lady+Gaga   \n",
       "707            Metallica       http://www.last.fm/music/Metallica   \n",
       "289       Britney Spears  http://www.last.fm/music/Britney+Spears   \n",
       "792               Thalía     http://www.last.fm/music/Thal%C3%ADa   \n",
       "378          Evanescence     http://www.last.fm/music/Evanescence   \n",
       "\n",
       "                                                 pictureURL  pred_norm_weight  \n",
       "artistID                                                                       \n",
       "89        http://userserve-ak.last.fm/serve/252/47390093...          0.000290  \n",
       "707       http://userserve-ak.last.fm/serve/252/7560709.jpg          0.000224  \n",
       "289       http://userserve-ak.last.fm/serve/252/60126439...          0.000213  \n",
       "792       http://userserve-ak.last.fm/serve/252/40337541...          0.000196  \n",
       "378       http://userserve-ak.last.fm/serve/252/8403975.jpg          0.000181  "
      ]
     },
     "execution_count": 84,
     "metadata": {},
     "output_type": "execute_result"
    }
   ],
   "source": [
    "# filtering artists out artists user is already listening to\n",
    "# and then recommend top predictions\n",
    "\n",
    "print(\"Artists to recommend:\")\n",
    "already_listening = sel_user_art_norm.loc[sel_user_art_norm['userID'] == user_id_to_search,\n",
    "                                          ['artistID']]\n",
    "recommend_art = user_pref_art[user_pref_art.index.isin(already_listening) == False]\n",
    "recommend_art = recommend_art.sort_values(by=['pred_norm_weight'], ascending=False)\n",
    "\n",
    "recommend_art.head(5)"
   ]
  },
  {
   "cell_type": "code",
   "execution_count": 94,
   "metadata": {},
   "outputs": [
    {
     "name": "stdout",
     "output_type": "stream",
     "text": [
      "User-based MF RMSE: 0.01084039336298635\n"
     ]
    }
   ],
   "source": [
    "mf_rmse = np.sqrt(np.nanmean(np.square(p_sel_user_art.as_matrix(),\n",
    "                                       pred_weight_df.as_matrix())))\n",
    "print('User-based MF RMSE: {}'.format(mf_rmse))"
   ]
  }
 ],
 "metadata": {
  "kernelspec": {
   "display_name": "Python 3",
   "language": "python",
   "name": "python3"
  },
  "language_info": {
   "codemirror_mode": {
    "name": "ipython",
    "version": 3
   },
   "file_extension": ".py",
   "mimetype": "text/x-python",
   "name": "python",
   "nbconvert_exporter": "python",
   "pygments_lexer": "ipython3",
   "version": "3.6.4"
  }
 },
 "nbformat": 4,
 "nbformat_minor": 2
}
